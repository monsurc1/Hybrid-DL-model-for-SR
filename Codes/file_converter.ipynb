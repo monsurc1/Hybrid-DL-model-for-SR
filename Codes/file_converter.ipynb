{
 "cells": [
  {
   "cell_type": "code",
   "execution_count": 2,
   "id": "b3ad0639-1444-41fb-bb77-a155b85db595",
   "metadata": {},
   "outputs": [
    {
     "name": "stdout",
     "output_type": "stream",
     "text": [
      "Collecting jupytext\n",
      "  Downloading jupytext-1.15.0-py3-none-any.whl (299 kB)\n",
      "\u001b[2K     \u001b[90m━━━━━━━━━━━━━━━━━━━━━━━━━━━━━━━━━━━━━━━\u001b[0m \u001b[32m299.4/299.4 kB\u001b[0m \u001b[31m5.0 MB/s\u001b[0m eta \u001b[36m0:00:00\u001b[0m00:01\u001b[0m\n",
      "\u001b[?25hRequirement already satisfied: toml in /Users/mansoor/opt/anaconda3/lib/python3.9/site-packages (from jupytext) (0.10.2)\n",
      "Requirement already satisfied: nbformat in /Users/mansoor/opt/anaconda3/lib/python3.9/site-packages (from jupytext) (5.7.0)\n",
      "Collecting markdown-it-py>=1.0.0\n",
      "  Downloading markdown_it_py-3.0.0-py3-none-any.whl (87 kB)\n",
      "\u001b[2K     \u001b[90m━━━━━━━━━━━━━━━━━━━━━━━━━━━━━━━━━━━━━━━━\u001b[0m \u001b[32m87.5/87.5 kB\u001b[0m \u001b[31m3.5 MB/s\u001b[0m eta \u001b[36m0:00:00\u001b[0m\n",
      "\u001b[?25hCollecting mdit-py-plugins\n",
      "  Downloading mdit_py_plugins-0.4.0-py3-none-any.whl (54 kB)\n",
      "\u001b[2K     \u001b[90m━━━━━━━━━━━━━━━━━━━━━━━━━━━━━━━━━━━━━━━━\u001b[0m \u001b[32m54.1/54.1 kB\u001b[0m \u001b[31m1.8 MB/s\u001b[0m eta \u001b[36m0:00:00\u001b[0m\n",
      "\u001b[?25hRequirement already satisfied: pyyaml in /Users/mansoor/opt/anaconda3/lib/python3.9/site-packages (from jupytext) (6.0)\n",
      "Collecting mdurl~=0.1\n",
      "  Downloading mdurl-0.1.2-py3-none-any.whl (10.0 kB)\n",
      "Requirement already satisfied: jsonschema>=2.6 in /Users/mansoor/opt/anaconda3/lib/python3.9/site-packages (from nbformat->jupytext) (4.17.3)\n",
      "Requirement already satisfied: traitlets>=5.1 in /Users/mansoor/opt/anaconda3/lib/python3.9/site-packages (from nbformat->jupytext) (5.7.1)\n",
      "Requirement already satisfied: jupyter-core in /Users/mansoor/opt/anaconda3/lib/python3.9/site-packages (from nbformat->jupytext) (5.3.0)\n",
      "Requirement already satisfied: fastjsonschema in /Users/mansoor/opt/anaconda3/lib/python3.9/site-packages (from nbformat->jupytext) (2.16.2)\n",
      "Requirement already satisfied: pyrsistent!=0.17.0,!=0.17.1,!=0.17.2,>=0.14.0 in /Users/mansoor/opt/anaconda3/lib/python3.9/site-packages (from jsonschema>=2.6->nbformat->jupytext) (0.18.0)\n",
      "Requirement already satisfied: attrs>=17.4.0 in /Users/mansoor/opt/anaconda3/lib/python3.9/site-packages (from jsonschema>=2.6->nbformat->jupytext) (22.1.0)\n",
      "Requirement already satisfied: platformdirs>=2.5 in /Users/mansoor/opt/anaconda3/lib/python3.9/site-packages (from jupyter-core->nbformat->jupytext) (2.5.2)\n",
      "Installing collected packages: mdurl, markdown-it-py, mdit-py-plugins, jupytext\n",
      "Successfully installed jupytext-1.15.0 markdown-it-py-3.0.0 mdit-py-plugins-0.4.0 mdurl-0.1.2\n",
      "Note: you may need to restart the kernel to use updated packages.\n"
     ]
    }
   ],
   "source": [
    "pip install jupytext"
   ]
  },
  {
   "cell_type": "code",
   "execution_count": 5,
   "id": "6df1ee93-5cf3-4f70-943c-2497904dfa8e",
   "metadata": {},
   "outputs": [],
   "source": [
    "import jupytext\n",
    "notebook = jupytext.read('/Users/mansoor/Documents/TUS/3rd_Semester_Dessertation/edvryolov8_v1/yolov8_fm_gen.py')\n",
    "jupytext.write(notebook, '/Users/mansoor/Documents/TUS/3rd_Semester_Dessertation/edvryolov8_v1/yolov8_fm_gen.ipynb', fmt='.ipynb')"
   ]
  }
 ],
 "metadata": {
  "kernelspec": {
   "display_name": "Python 3 (ipykernel)",
   "language": "python",
   "name": "python3"
  },
  "language_info": {
   "codemirror_mode": {
    "name": "ipython",
    "version": 3
   },
   "file_extension": ".py",
   "mimetype": "text/x-python",
   "name": "python",
   "nbconvert_exporter": "python",
   "pygments_lexer": "ipython3",
   "version": "3.9.16"
  }
 },
 "nbformat": 4,
 "nbformat_minor": 5
}
