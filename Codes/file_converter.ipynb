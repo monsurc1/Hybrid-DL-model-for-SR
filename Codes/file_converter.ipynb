{
 "cells": [
  {
   "cell_type": "code",
   "execution_count": 2,
   "id": "b3ad0639-1444-41fb-bb77-a155b85db595",
   "metadata": {},
   "outputs": [],
   "source": [
    "pip install jupytext"
   ]
  },
  {
   "cell_type": "code",
   "execution_count": 5,
   "id": "6df1ee93-5cf3-4f70-943c-2497904dfa8e",
   "metadata": {},
   "outputs": [],
   "source": [
    "import jupytext\n",
    "notebook = jupytext.read('/edvryolov8_v1/yolov8_fm_gen.py')\n",
    "jupytext.write(notebook, '/edvryolov8_v1/yolov8_fm_gen.ipynb', fmt='.ipynb')"
   ]
  }
 ],
 "metadata": {
  "kernelspec": {
   "display_name": "Python 3 (ipykernel)",
   "language": "python",
   "name": "python3"
  },
  "language_info": {
   "codemirror_mode": {
    "name": "ipython",
    "version": 3
   },
   "file_extension": ".py",
   "mimetype": "text/x-python",
   "name": "python",
   "nbconvert_exporter": "python",
   "pygments_lexer": "ipython3",
   "version": "3.9.16"
  }
 },
 "nbformat": 4,
 "nbformat_minor": 5
}
